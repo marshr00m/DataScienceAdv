{
 "cells": [
  {
   "cell_type": "markdown",
   "id": "335398f2",
   "metadata": {
    "pycharm": {
     "name": "#%% md\n"
    }
   },
   "source": [
    "# データサイエンス応用 #3\n",
    "\n",
    "## 形態素解析プログラムMeCabのインストール\n",
    "本題の前に少し準備をしたいと思います。\n",
    "\n",
    "自然言語処理において形態素解析は重要な技術です。 \n",
    "前回は、形態素解析器にPythonのみで実装されているJanomeを利用しました。\n",
    "しかし、どうしても処理速度が遅く、結果の出力に多くの時間を要することがありました。\n",
    "そこで、今回はあらためてMeCabをインストールしたいと思います。\n",
    "\n",
    "### 64bit版MeCabのインストール\n",
    "MeCabをWindowsの環境でインストールして、Pythonで利用するのは、ソースをダウンロードしてコンパイルしたりと、面倒な作業が必要でした。 \n",
    "\n",
    "MeCabの公式サイト（ https://taku910.github.io/mecab/ ）では、Windows版のコンパイル済バイナリも配布されていますが、\n",
    "64bit版Pythonでは、公式サイトで配布されているWindows用32bit版MeCabバイナリが実行できません。\n",
    "また、この資料を執筆している時点でMeCabの公式サイトでは開発が止まっています。\n",
    "\n",
    "そこで、https://qiita.com/yukinoi/items/5dfc674c040f6d81a8a1 で公開されている@yukinoiさん作成のWindows用64bit版MeCabバイナリを利用したいと思います。\n",
    "このドキュメントにも説明があるように、https://github.com/ikegami-yukino/mecab/releases からWindows用64bit版MeCabバイナリのインストーラ（拡張子に.exeが付いてるファイル）の最新版をダウンロードしてください。\n",
    "\n",
    "インストーラのファイルをダウンロードできたら、クリックして実行してください。\n",
    "インストールがはじまったら、基本的には、表示される指示に従いクリックをして進めれば完了します。\n",
    "ただし、「辞書の文字コードの選択」は、必ず`UTF-8`にしてください。\n",
    "インストールが完了すると`C:\\Program Files\\MeCab`にファイル一式が置かれます。\n",
    "MeCabのコマンドは`C:\\Program Files\\MeCab\\bin\\mecab.exe`になります。\n",
    "\n",
    "なお、以前、このMeCabを`UTF-8`以外の設定でインストールしたことがある人は、一度、MeCabをアンインストールして入れなおす必要があります。\n",
    "万が一、アンインストールした後も`C:\\Program Files\\MeCab`のフォルダが残っているときは、手動で完全に削除するようにしてください。\n",
    "\n",
    "Windowsのコマンドプロンプトから`C:\\Program Files\\MeCab\\bin\\mecab.exe`を実行するとMeCabを動かすことができますが、\n",
    "Windowsのコマンドプロンプトでは、そのままでは文字化けをしてしまいます（文字コードの設定の問題です）。\n",
    "今回は、MeCabを単体で利用することはやめて、Pythonからモジュールを使って呼び出すことにしましょう。\n",
    "\n",
    "なお、お使いのWindowsが32bit版の場合（ほとんどの人は該当しないと思います）は、MeCabの公式サイトから32bit版をダウンロードして利用してください。\n",
    "他のOSをご利用の場合も、MeCabのインストールを解説したサイトは多くありますので、ウェブ検索をするようにしてください。\n",
    "\n",
    "### mecabモジュールのインストール\n",
    "次に、おなじく@yukinoiさん作成のmecabモジュールをインストールします。\n",
    "このモジュールは、PythonからMeCabを呼び出すラッパーとなっています。\n",
    "詳細は、https://qiita.com/yukinoi/items/990b6933d9f21ba0fb43 をご確認ください。\n",
    "このモジュールは、MeCabが正しくインストールされていれば、64bit, 32bit両方のWindows及びmacOS, Linuxなどでも共通して使用することができます。\n",
    "\n",
    "インストールには`pip`コマンドを使用します。`Successfully installed mecab-0.996.3`のように表示されればOKです。\n",
    "\n",
    "---\n",
    "\n",
    "!pip install mecab\n",
    "\n",
    "---\n",
    "\n",
    "このコマンドでは、MeCabを利用するためのモジュールをインストールするのみです。\n",
    "MeCabのプログラム本体は、上記のように、あらかじめインストールする必要があることに注意してください。"
   ]
  },
  {
   "cell_type": "code",
   "execution_count": 17,
   "id": "38798a96",
   "metadata": {
    "pycharm": {
     "name": "#%%\n"
    }
   },
   "outputs": [
    {
     "name": "stdout",
     "output_type": "stream",
     "text": [
      "Requirement already satisfied: mecab in c:\\users\\mars2\\anaconda3\\envs\\datascienceadv\\lib\\site-packages (0.996.3)\n"
     ]
    }
   ],
   "source": [
    "!pip install mecab"
   ]
  },
  {
   "cell_type": "markdown",
   "id": "1cdcecf9",
   "metadata": {
    "pycharm": {
     "name": "#%% md\n"
    }
   },
   "source": [
    "次にMeCabを使ってみます。\n",
    "\n",
    "`t = MeCab.Tagger() `でインスタンスを生成し、`t.parse(input_txt)`とすることで、入力テキストの形態素解析結果を取得することができます。\n",
    "ここで、MeCabの出力結果`parse`は、一つの文字列になっていますので、改行`\\n`で`split()`して、各形態素（単語）をリスト`lines`に格納しています。\n",
    "\n",
    "---\n",
    "    import MeCab\n",
    "\n",
    "    t = MeCab.Tagger()\n",
    "\n",
    "    input_txt = \"主人公「吾輩」のモデルは、夏目漱石に家に迷い込んで住み着いた野良の黒猫である。猫が死亡した際、漱石は親しい人達に猫の死亡通知を出した。\"\n",
    "    #input_txt = \"すもももももももものうち\"\n",
    "\n",
    "    parse = t.parse(input_txt)\n",
    "    lines = parse.split('\\n')\n",
    "\n",
    "    for token in lines:\n",
    "        print(token)\n",
    "---"
   ]
  },
  {
   "cell_type": "code",
   "execution_count": 18,
   "id": "7aec3a0f",
   "metadata": {
    "pycharm": {
     "name": "#%%\n"
    }
   },
   "outputs": [
    {
     "name": "stdout",
     "output_type": "stream",
     "text": [
      "主人公\t名詞,一般,*,*,*,*,主人公,シュジンコウ,シュジンコー\n",
      "「\t記号,括弧開,*,*,*,*,「,「,「\n",
      "吾輩\t名詞,代名詞,一般,*,*,*,吾輩,ワガハイ,ワガハイ\n",
      "」\t記号,括弧閉,*,*,*,*,」,」,」\n",
      "の\t助詞,連体化,*,*,*,*,の,ノ,ノ\n",
      "モデル\t名詞,一般,*,*,*,*,モデル,モデル,モデル\n",
      "は\t助詞,係助詞,*,*,*,*,は,ハ,ワ\n",
      "、\t記号,読点,*,*,*,*,、,、,、\n",
      "夏目\t名詞,固有名詞,人名,姓,*,*,夏目,ナツメ,ナツメ\n",
      "漱石\t名詞,固有名詞,人名,名,*,*,漱石,ソウセキ,ソーセキ\n",
      "に\t助詞,格助詞,一般,*,*,*,に,ニ,ニ\n",
      "家\t名詞,一般,*,*,*,*,家,イエ,イエ\n",
      "に\t助詞,格助詞,一般,*,*,*,に,ニ,ニ\n",
      "迷い込ん\t動詞,自立,*,*,五段・マ行,連用タ接続,迷い込む,マヨイコン,マヨイコン\n",
      "で\t助詞,接続助詞,*,*,*,*,で,デ,デ\n",
      "住み着い\t動詞,自立,*,*,五段・カ行イ音便,連用タ接続,住み着く,スミツイ,スミツイ\n",
      "た\t助動詞,*,*,*,特殊・タ,基本形,た,タ,タ\n",
      "野良\t名詞,一般,*,*,*,*,野良,ノラ,ノラ\n",
      "の\t助詞,連体化,*,*,*,*,の,ノ,ノ\n",
      "黒\t名詞,一般,*,*,*,*,黒,クロ,クロ\n",
      "猫\t名詞,一般,*,*,*,*,猫,ネコ,ネコ\n",
      "で\t助動詞,*,*,*,特殊・ダ,連用形,だ,デ,デ\n",
      "ある\t助動詞,*,*,*,五段・ラ行アル,基本形,ある,アル,アル\n",
      "。\t記号,句点,*,*,*,*,。,。,。\n",
      "猫\t名詞,一般,*,*,*,*,猫,ネコ,ネコ\n",
      "が\t助詞,格助詞,一般,*,*,*,が,ガ,ガ\n",
      "死亡\t名詞,サ変接続,*,*,*,*,死亡,シボウ,シボー\n",
      "し\t動詞,自立,*,*,サ変・スル,連用形,する,シ,シ\n",
      "た\t助動詞,*,*,*,特殊・タ,基本形,た,タ,タ\n",
      "際\t名詞,非自立,副詞可能,*,*,*,際,サイ,サイ\n",
      "、\t記号,読点,*,*,*,*,、,、,、\n",
      "漱石\t名詞,固有名詞,人名,名,*,*,漱石,ソウセキ,ソーセキ\n",
      "は\t助詞,係助詞,*,*,*,*,は,ハ,ワ\n",
      "親しい\t形容詞,自立,*,*,形容詞・イ段,基本形,親しい,シタシイ,シタシイ\n",
      "人達\t名詞,一般,*,*,*,*,人達,ヒトタチ,ヒトタチ\n",
      "に\t助詞,格助詞,一般,*,*,*,に,ニ,ニ\n",
      "猫\t名詞,一般,*,*,*,*,猫,ネコ,ネコ\n",
      "の\t助詞,連体化,*,*,*,*,の,ノ,ノ\n",
      "死亡\t名詞,サ変接続,*,*,*,*,死亡,シボウ,シボー\n",
      "通知\t名詞,サ変接続,*,*,*,*,通知,ツウチ,ツーチ\n",
      "を\t助詞,格助詞,一般,*,*,*,を,ヲ,ヲ\n",
      "出し\t動詞,自立,*,*,五段・サ行,連用形,出す,ダシ,ダシ\n",
      "た\t助動詞,*,*,*,特殊・タ,基本形,た,タ,タ\n",
      "。\t記号,句点,*,*,*,*,。,。,。\n",
      "EOS\n",
      "\n"
     ]
    }
   ],
   "source": [
    "import MeCab\n",
    "\n",
    "t = MeCab.Tagger()\n",
    "\n",
    "input_txt = \"主人公「吾輩」のモデルは、夏目漱石に家に迷い込んで住み着いた野良の黒猫である。猫が死亡した際、漱石は親しい人達に猫の死亡通知を出した。\"\n",
    "#input_txt = \"すもももももももものうち\"\n",
    "\n",
    "parse = t.parse(input_txt)\n",
    "lines = parse.split('\\n')\n",
    "\n",
    "for token in lines:\n",
    "    print(token)"
   ]
  },
  {
   "cell_type": "markdown",
   "id": "9cab14f3",
   "metadata": {
    "pycharm": {
     "name": "#%% md\n"
    }
   },
   "source": [
    "次のように、`parseToNode()`で、最初のノードを取得することができます。\n",
    "n.nextをすることによって次のノードに移ることができます。\n",
    "ノードには、surface（表層形）、feature（品詞を含む詳細な情報）の解析結果が入ります。\n",
    "`n.surface`と`n.feature`でそれぞれの中身を参照することができます。\n",
    "\n",
    "---\n",
    "    import MeCab\n",
    "\n",
    "    t = MeCab.Tagger()\n",
    "\n",
    "    input_txt = \"主人公「吾輩」のモデルは、夏目漱石に家に迷い込んで住み着いた野良の黒猫である。猫が死亡した際、漱石は親しい人達に猫の死亡通知を出した。\"\n",
    "    #input_txt = \"すもももももももものうち\"\n",
    "\n",
    "    n = t.parseToNode(input_txt)\n",
    "\n",
    "    while n:\n",
    "        print(n.surface, \"\\t\", n.feature)\n",
    "        n = n.next\n",
    "---"
   ]
  },
  {
   "cell_type": "code",
   "execution_count": 19,
   "id": "82feae6d",
   "metadata": {
    "pycharm": {
     "name": "#%%\n"
    }
   },
   "outputs": [
    {
     "name": "stdout",
     "output_type": "stream",
     "text": [
      " \t BOS/EOS,*,*,*,*,*,*,*,*\n",
      "主人公 \t 名詞,一般,*,*,*,*,主人公,シュジンコウ,シュジンコー\n",
      "「 \t 記号,括弧開,*,*,*,*,「,「,「\n",
      "吾輩 \t 名詞,代名詞,一般,*,*,*,吾輩,ワガハイ,ワガハイ\n",
      "」 \t 記号,括弧閉,*,*,*,*,」,」,」\n",
      "の \t 助詞,連体化,*,*,*,*,の,ノ,ノ\n",
      "モデル \t 名詞,一般,*,*,*,*,モデル,モデル,モデル\n",
      "は \t 助詞,係助詞,*,*,*,*,は,ハ,ワ\n",
      "、 \t 記号,読点,*,*,*,*,、,、,、\n",
      "夏目 \t 名詞,固有名詞,人名,姓,*,*,夏目,ナツメ,ナツメ\n",
      "漱石 \t 名詞,固有名詞,人名,名,*,*,漱石,ソウセキ,ソーセキ\n",
      "に \t 助詞,格助詞,一般,*,*,*,に,ニ,ニ\n",
      "家 \t 名詞,一般,*,*,*,*,家,イエ,イエ\n",
      "に \t 助詞,格助詞,一般,*,*,*,に,ニ,ニ\n",
      "迷い込ん \t 動詞,自立,*,*,五段・マ行,連用タ接続,迷い込む,マヨイコン,マヨイコン\n",
      "で \t 助詞,接続助詞,*,*,*,*,で,デ,デ\n",
      "住み着い \t 動詞,自立,*,*,五段・カ行イ音便,連用タ接続,住み着く,スミツイ,スミツイ\n",
      "た \t 助動詞,*,*,*,特殊・タ,基本形,た,タ,タ\n",
      "野良 \t 名詞,一般,*,*,*,*,野良,ノラ,ノラ\n",
      "の \t 助詞,連体化,*,*,*,*,の,ノ,ノ\n",
      "黒 \t 名詞,一般,*,*,*,*,黒,クロ,クロ\n",
      "猫 \t 名詞,一般,*,*,*,*,猫,ネコ,ネコ\n",
      "で \t 助動詞,*,*,*,特殊・ダ,連用形,だ,デ,デ\n",
      "ある \t 助動詞,*,*,*,五段・ラ行アル,基本形,ある,アル,アル\n",
      "。 \t 記号,句点,*,*,*,*,。,。,。\n",
      "猫 \t 名詞,一般,*,*,*,*,猫,ネコ,ネコ\n",
      "が \t 助詞,格助詞,一般,*,*,*,が,ガ,ガ\n",
      "死亡 \t 名詞,サ変接続,*,*,*,*,死亡,シボウ,シボー\n",
      "し \t 動詞,自立,*,*,サ変・スル,連用形,する,シ,シ\n",
      "た \t 助動詞,*,*,*,特殊・タ,基本形,た,タ,タ\n",
      "際 \t 名詞,非自立,副詞可能,*,*,*,際,サイ,サイ\n",
      "、 \t 記号,読点,*,*,*,*,、,、,、\n",
      "漱石 \t 名詞,固有名詞,人名,名,*,*,漱石,ソウセキ,ソーセキ\n",
      "は \t 助詞,係助詞,*,*,*,*,は,ハ,ワ\n",
      "親しい \t 形容詞,自立,*,*,形容詞・イ段,基本形,親しい,シタシイ,シタシイ\n",
      "人達 \t 名詞,一般,*,*,*,*,人達,ヒトタチ,ヒトタチ\n",
      "に \t 助詞,格助詞,一般,*,*,*,に,ニ,ニ\n",
      "猫 \t 名詞,一般,*,*,*,*,猫,ネコ,ネコ\n",
      "の \t 助詞,連体化,*,*,*,*,の,ノ,ノ\n",
      "死亡 \t 名詞,サ変接続,*,*,*,*,死亡,シボウ,シボー\n",
      "通知 \t 名詞,サ変接続,*,*,*,*,通知,ツウチ,ツーチ\n",
      "を \t 助詞,格助詞,一般,*,*,*,を,ヲ,ヲ\n",
      "出し \t 動詞,自立,*,*,五段・サ行,連用形,出す,ダシ,ダシ\n",
      "た \t 助動詞,*,*,*,特殊・タ,基本形,た,タ,タ\n",
      "。 \t 記号,句点,*,*,*,*,。,。,。\n",
      " \t BOS/EOS,*,*,*,*,*,*,*,*\n"
     ]
    }
   ],
   "source": [
    "import MeCab\n",
    "\n",
    "t = MeCab.Tagger()\n",
    "\n",
    "input_txt = \"主人公「吾輩」のモデルは、夏目漱石に家に迷い込んで住み着いた野良の黒猫である。猫が死亡した際、漱石は親しい人達に猫の死亡通知を出した。\"\n",
    "#input_txt = \"すもももももももものうち\"\n",
    "\n",
    "n = t.parseToNode(input_txt)\n",
    "\n",
    "while n:\n",
    "    print(n.surface, \"\\t\", n.feature)\n",
    "    n = n.next"
   ]
  },
  {
   "cell_type": "markdown",
   "id": "63e448fe",
   "metadata": {
    "pycharm": {
     "name": "#%% md\n"
    }
   },
   "source": [
    "### MeCabの辞書について（再掲）\n",
    "\n",
    "MeCabの標準辞書（IPADIC）には、最近の新しい単語などは登録されておらず、ウェブのテキスト等を解析すると期待通りの結果を得ることができません。 このため、ユーザ定義辞書を使ったり、新しい辞書を使う必要があります。\n",
    "\n",
    "これまでにさまざまな新しい辞書が公開されていますが、その中でも、新しい単語も含んだNEologd（ねおろぐでぃー）辞書（mecab-ipadic-NEologd）という辞書を利用することが多くなっています。\n",
    "この辞書は、ウェブ上の多数の言語資源から得た新語を追加することでカスタマイズしたMeCab用辞書です。\n",
    "頻繁に更新されており、新語・固有表現に強く、語彙数が多く、オープンソースであるという特徴があります。\n",
    "\n",
    "NEologd辞書は、公式サイト（ https://github.com/neologd/mecab-ipadic-neologd/blob/master/README.ja.md ）で公開されています。\n",
    "しかし、ダウンロードしたら、そのまま使える形式にはなっておらず、ビルド処理が必要です。\n",
    "基本的には、上記の公式サイトの説明通りに作業すれば、インストールはできるのですが、必要な開発環境のセットアップに少々手間を要します。\n",
    "\n",
    "この授業の中では、利用しませんが、ぜひ試してください。"
   ]
  },
  {
   "cell_type": "markdown",
   "id": "b259dcb9",
   "metadata": {
    "pycharm": {
     "name": "#%% md\n"
    }
   },
   "source": [
    "# Janome と MeCabの処理速度比較\n",
    "\n",
    "## 単語の出現頻度\n",
    "\n",
    "次は、前回も使った、Janomeをつかって形態素解析をして単語ごとの出現回数の棒グラフをプロットするプログラムです。\n",
    "Janomeのわかち書きモードの結果を利用しています。\n",
    "\n",
    "---\n",
    "    %matplotlib inline\n",
    "    import numpy as np\n",
    "    from collections import Counter\n",
    "    from janome.tokenizer import Tokenizer\n",
    "    import matplotlib.pyplot as plt\n",
    "    # matplotlibのフォントの設定\n",
    "    from matplotlib import rcParams\n",
    "    rcParams['font.family'] = 'sans-serif'\n",
    "    rcParams['font.sans-serif'] = ['Hiragino Maru Gothic Pro', 'Yu Gothic', 'Meirio', 'Takao', 'IPAexGothic', 'IPAPGothic', 'VL PGothic', 'Noto Sans CJK JP']\n",
    "\n",
    "    path = \"plain.txt\"\n",
    "\n",
    "    with open(path, encoding=\"utf-8\") as f:\n",
    "            s = f.read()\n",
    "\n",
    "    t = Tokenizer()\n",
    "\n",
    "    c = Counter(t.tokenize(s, wakati=True))\n",
    "\n",
    "    top = 100  # 出力する上位数\n",
    "    print(c.most_common(top))\n",
    "\n",
    "    values, counts = zip(*c.most_common(top))\n",
    "    plt.bar(values, counts)\n",
    "    plt.xlabel(\"上位\" + str(top) )\n",
    "    plt.ylabel(\"出現回数\")\n",
    "    plt.show()"
   ]
  },
  {
   "cell_type": "code",
   "execution_count": 20,
   "id": "4278a5a4",
   "metadata": {
    "pycharm": {
     "name": "#%%\n"
    }
   },
   "outputs": [
    {
     "name": "stdout",
     "output_type": "stream",
     "text": [
      "[('の', 9194), ('。', 7487), ('て', 6870), ('、', 6774), ('は', 6425), ('に', 6262), ('を', 6067), ('と', 5512), ('が', 5338), ('た', 3987), ('で', 3803), ('「', 3239), ('」', 3239), ('も', 2474), ('ない', 2391), ('だ', 2365), ('し', 2325), ('\\n', 2175), ('から', 2038), ('ある', 1731), ('な', 1611), ('ん', 1569), ('か', 1530), ('いる', 1251), ('事', 1207), ('へ', 1034), ('する', 998), ('う', 993), ('もの', 980), ('です', 973), ('云う', 937), ('主人', 932), ('君', 904), ('よう', 696), ('ね', 682), ('この', 649), ('御', 636), ('ば', 617), ('人', 599), ('その', 576), ('一', 557), ('そう', 553), ('何', 539), ('なる', 529), ('さ', 512), ('よ', 509), ('なら', 483), ('吾輩', 482), ('い', 477), ('ます', 458), ('じゃ', 448), ('…', 433), ('これ', 414), ('なっ', 404), ('それ', 385), ('来', 365), ('れ', 357), ('でも', 349), ('見', 349), ('時', 344), ('――', 333), ('ませ', 330), ('いい', 320), ('ところ', 315), ('まで', 313), ('三', 312), ('方', 312), ('二', 302), ('ず', 299), ('上', 293), ('まし', 289), ('寒月', 286), ('顔', 282), ('ぬ', 277), ('見る', 273), ('人間', 272), ('だろ', 270), ('くらい', 269), ('僕', 268), ('たら', 263), ('さん', 260), ('なく', 258), ('猫', 249), ('気', 249), ('あり', 249), ('だけ', 245), ('出', 245), ('出来', 243), ('云っ', 241), ('また', 238), ('先生', 233), ('中', 232), ('思っ', 232), ('ばかり', 231), ('十', 231), ('迷亭', 229), ('ごとく', 225), ('あっ', 221), ('どう', 219), ('って', 217)]\n"
     ]
    },
    {
     "data": {
      "text/plain": "<Figure size 640x480 with 1 Axes>",
      "image/png": "[encoded data removed]"
     },
     "metadata": {},
     "output_type": "display_data"
    }
   ],
   "source": [
    "%matplotlib inline\n",
    "import numpy as np\n",
    "from collections import Counter\n",
    "from janome.tokenizer import Tokenizer\n",
    "import matplotlib.pyplot as plt\n",
    "# matplotlibのフォントの設定\n",
    "from matplotlib import rcParams\n",
    "rcParams['font.family'] = 'sans-serif'\n",
    "rcParams['font.sans-serif'] = ['Hiragino Maru Gothic Pro', 'Yu Gothic', 'Meirio', 'Takao', 'IPAexGothic', 'IPAPGothic', 'VL PGothic', 'Noto Sans CJK JP']\n",
    "\n",
    "path = \"../data/wagahaiwa_nekodearu.output.txt\"\n",
    "\n",
    "with open(path, encoding=\"utf-8\") as f:\n",
    "        s = f.read()\n",
    "\n",
    "t = Tokenizer()\n",
    "\n",
    "c = Counter(t.tokenize(s, wakati=True))\n",
    "\n",
    "top = 100  # 出力する上位数\n",
    "print(c.most_common(top))\n",
    "\n",
    "values, counts = zip(*c.most_common(top))\n",
    "plt.bar(values, counts)\n",
    "plt.xlabel(\"上位\" + str(top) )\n",
    "plt.ylabel(\"出現回数\")\n",
    "plt.show()"
   ]
  },
  {
   "cell_type": "markdown",
   "id": "047e4c6b",
   "metadata": {
    "pycharm": {
     "name": "#%% md\n"
    }
   },
   "source": [
    "次は、MeCabを利用します。\n",
    "\n",
    "    parse = t.parse(s)\n",
    "    \n",
    "による形態素解析の結果は、一つの文字列`parse`として格納されています。\n",
    "\n",
    "\n",
    "それを\n",
    "\n",
    "    lines = parse.split('\\n')\n",
    "\n",
    "によって、`\\n`で分割（`split`）して行ごとに分割します。`lines`は、形態素解析の結果が行ごとに格納されたリストになります。\n",
    "\n",
    "次に、\n",
    "\n",
    "    items = (re.split('\\t', line) for line in lines)\n",
    "\n",
    "で、各行をタブ（`\\t`）で分割して、`line`を分割した結果を`item[0]`, `item[1]`に格納しています（正確には、内包表記を利用しているため、`item[0]`, `item[1]`という変数は存在しませんが、便宜上、このように説明しています）。\n",
    "これは、MeCabの出力の各行は、\n",
    "\n",
    "    主人公\t名詞,一般,*,*,*,*,主人公,シュジンコウ,シュジンコー\n",
    "\n",
    "のように、最初の項目である表層形とその他の情報はタブで区切られているためです。つまり、`item[0]`が`主人公`になり、`item[1]`が`名詞,一般,*,*,*,*,主人公,シュジンコウ,シュジンコー`となります。\n",
    "\n",
    "最後に、\n",
    "    \n",
    "    words = [item[0] for item in items if (item[0] not in ('EOS', '', 't', 'ー'))]\n",
    "    \n",
    "で、`item[0]`のみを取り出して、`words`のリストを得ています。つまり、表層形のみを取り出します。\n",
    "このとき、MeCabでは、文の終わりの`EOS`等の記号を`item[0]`に出力することがありますが、\n",
    "\n",
    "    if (item[0] not in ('EOS', '', 't', 'ー'))\n",
    "    \n",
    "によって除外しています。\n",
    "\n",
    "このプログラムは、Janomeの場合とほぼ同様の処理ですが、Janomeより高速であることがわかります。確認してください。\n",
    "\n",
    "---\n",
    "\n",
    "    %matplotlib inline\n",
    "    import numpy as np\n",
    "    from collections import Counter\n",
    "    import re\n",
    "    import MeCab\n",
    "    import matplotlib.pyplot as plt\n",
    "    # matplotlibのフォントの設定\n",
    "    from matplotlib import rcParams\n",
    "    rcParams['font.family'] = 'sans-serif'\n",
    "    rcParams['font.sans-serif'] = ['Hiragino Maru Gothic Pro', 'Yu Gothic', 'Meirio', 'Takao', 'IPAexGothic', 'IPAPGothic', 'VL PGothic', 'Noto Sans CJK JP']\n",
    "\n",
    "    path = \"plain.txt\"\n",
    "\n",
    "    with open(path, encoding=\"utf-8\") as f:\n",
    "            s = f.read()\n",
    "\n",
    "    t = MeCab.Tagger()\n",
    "    parse = t.parse(s)\n",
    "    lines = parse.split('\\n') # 行ごとに分割\n",
    "    items = (re.split('\\t', line) for line in lines) # 各行をTab（\\t）で分割して、item[0], item[1]に格納\n",
    "\n",
    "    # 単語をリストに格納\n",
    "    words = [item[0] for item in items if (item[0] not in ('EOS', '', 't', 'ー'))]\n",
    "\n",
    "    c = Counter(words)\n",
    "    top = 100  # 出力する上位数\n",
    "    print(c.most_common(top))\n",
    "\n",
    "    values, counts = zip(*c.most_common(top))\n",
    "    plt.bar(values, counts)\n",
    "    plt.xlabel(\"上位\" + str(top) )\n",
    "    plt.ylabel(\"出現回数\")\n",
    "    plt.show()\n"
   ]
  },
  {
   "cell_type": "code",
   "execution_count": 21,
   "id": "f63827d7",
   "metadata": {
    "pycharm": {
     "name": "#%%\n"
    }
   },
   "outputs": [
    {
     "name": "stdout",
     "output_type": "stream",
     "text": [
      "[('の', 9194), ('。', 7487), ('て', 6873), ('、', 6774), ('は', 6425), ('に', 6267), ('を', 6071), ('と', 5515), ('が', 5339), ('た', 3987), ('で', 3806), ('「', 3239), ('」', 3239), ('も', 2474), ('ない', 2391), ('だ', 2367), ('し', 2326), ('から', 2043), ('ある', 1732), ('な', 1611), ('ん', 1568), ('か', 1530), ('いる', 1251), ('事', 1207), ('へ', 1034), ('する', 998), ('う', 992), ('もの', 981), ('君', 973), ('です', 973), ('云う', 937), ('主人', 932), ('よう', 696), ('ね', 682), ('この', 649), ('御', 636), ('ば', 617), ('人', 602), ('その', 576), ('一', 555), ('そう', 554), ('何', 539), ('なる', 529), ('さ', 512), ('よ', 509), ('なら', 483), ('吾輩', 482), ('い', 476), ('ます', 458), ('じゃ', 448), ('…', 433), ('これ', 414), ('なっ', 404), ('それ', 388), ('来', 364), ('れ', 356), ('見', 350), ('でも', 348), ('時', 344), ('迷亭', 343), ('――', 333), ('ませ', 330), ('いい', 320), ('ところ', 315), ('三', 314), ('まで', 313), ('方', 312), ('二', 302), ('ず', 299), ('上', 294), ('まし', 289), ('寒月', 286), ('顔', 282), ('ぬ', 277), ('先生', 274), ('見る', 273), ('人間', 272), ('だろ', 270), ('くらい', 269), ('僕', 268), ('たら', 264), ('さん', 260), ('なく', 258), ('猫', 250), ('気', 250), ('あり', 249), ('だけ', 245), ('出', 245), ('出来', 244), ('云っ', 241), ('また', 238), ('中', 233), ('思っ', 232), ('ばかり', 231), ('十', 231), ('ごとく', 225), ('あっ', 221), ('どう', 219), ('って', 214), ('細君', 213)]\n"
     ]
    },
    {
     "data": {
      "text/plain": "<Figure size 640x480 with 1 Axes>",
      "image/png": "[encoded data removed]"
     },
     "metadata": {},
     "output_type": "display_data"
    }
   ],
   "source": [
    "%matplotlib inline\n",
    "import numpy as np\n",
    "from collections import Counter\n",
    "import re\n",
    "import MeCab\n",
    "import matplotlib.pyplot as plt\n",
    "# matplotlibのフォントの設定\n",
    "from matplotlib import rcParams\n",
    "rcParams['font.family'] = 'sans-serif'\n",
    "rcParams['font.sans-serif'] = ['Hiragino Maru Gothic Pro', 'Yu Gothic', 'Meirio', 'Takao', 'IPAexGothic', 'IPAPGothic', 'VL PGothic', 'Noto Sans CJK JP']\n",
    "\n",
    "path = \"../data/wagahaiwa_nekodearu.output.txt\"\n",
    "\n",
    "with open(path, encoding=\"utf-8\") as f:\n",
    "        s = f.read()\n",
    "\n",
    "t = MeCab.Tagger()\n",
    "parse = t.parse(s)\n",
    "lines = parse.split('\\n') # 行ごとに分割\n",
    "items = (re.split('\\t', line) for line in lines) # 各行をTab（\\t）で分割して、item[0], item[1]に格納\n",
    "\n",
    "# 単語をリストに格納\n",
    "words = [item[0] for item in items if (item[0] not in ('EOS', '', 't', 'ー'))]\n",
    "\n",
    "c = Counter(words)\n",
    "top = 100  # 出力する上位数\n",
    "print(c.most_common(top))\n",
    "\n",
    "values, counts = zip(*c.most_common(top))\n",
    "plt.bar(values, counts)\n",
    "plt.xlabel(\"上位\" + str(top) )\n",
    "plt.ylabel(\"出現回数\")\n",
    "plt.show()"
   ]
  },
  {
   "cell_type": "markdown",
   "id": "b0f43870",
   "metadata": {
    "pycharm": {
     "name": "#%% md\n"
    }
   },
   "source": [
    "## 文単位の単語数\n",
    "\n",
    "前回、Janomeの場合を説明した、文ごとに構成する単語数のヒストグラムをプロットするプログラムをMeCabをつかって実装すると次のようになります。\n",
    "\n",
    "ここで定義した関数 `mecab_tokenize(text)`は、`text`を入力として、MeCabの形態素解析結果の単語（表層形）のリストを返すものになっています。今後も便利に使えると思いますので、覚えておいてください。\n",
    "\n",
    "---\n",
    " \n",
    "    %matplotlib inline\n",
    "    import re\n",
    "    import matplotlib.pyplot as plt\n",
    "    import numpy as np\n",
    "    import MeCab\n",
    "    # matplotlibのフォントの設定\n",
    "    from matplotlib import rcParams\n",
    "    rcParams['font.family'] = 'sans-serif'\n",
    "    rcParams['font.sans-serif'] = ['Hiragino Maru Gothic Pro', 'Yu Gothic', 'Meirio', 'Takao', 'IPAexGothic', 'IPAPGothic', 'VL PGothic', 'Noto Sans CJK JP']\n",
    "\n",
    "    # 関数の定義\n",
    "    t= MeCab.Tagger()\n",
    "    def mecab_tokenize(text):\n",
    "            n = t.parseToNode(text)\n",
    "            tokens = []\n",
    "            while n:\n",
    "                    if not n.feature.startswith(\"BOS/EOS,\"):\n",
    "                            tokens.append(n.surface)\n",
    "                    n = n.next\n",
    "\n",
    "            return tokens\n",
    "\n",
    "    def word_count(l):\n",
    "            w = [token for token in mecab_tokenize(l)]\n",
    "            #print(w)\n",
    "\n",
    "            return len(w)    \n",
    "\n",
    "    # ここからメイン\n",
    "    if __name__ == '__main__':\n",
    "            path = \"plain.txt\"\n",
    "\n",
    "            with open(path, encoding=\"utf-8\") as f:\n",
    "                    s = f.read()\n",
    "\n",
    "            lines = s.splitlines()\n",
    "\n",
    "            cnt = np.array([word_count(x) for x in lines])\n",
    "\n",
    "            # ヒストグラムの生成\n",
    "            # bins, 表示する棒の数（ビン数）defulat:10\n",
    "            plt.hist(cnt, bins=cnt.max())\n",
    "            plt.xlabel(\"単語数（文単位）\")\n",
    "            plt.ylabel(\"出現頻度\")\n",
    "            plt.show()"
   ]
  },
  {
   "cell_type": "code",
   "execution_count": 22,
   "id": "ba7bd3ee",
   "metadata": {
    "pycharm": {
     "name": "#%%\n"
    }
   },
   "outputs": [
    {
     "data": {
      "text/plain": "<Figure size 640x480 with 1 Axes>",
      "image/png": "[encoded data removed]"
     },
     "metadata": {},
     "output_type": "display_data"
    }
   ],
   "source": [
    "%matplotlib inline\n",
    "import re\n",
    "import matplotlib.pyplot as plt\n",
    "import numpy as np\n",
    "import MeCab\n",
    "# matplotlibのフォントの設定\n",
    "from matplotlib import rcParams\n",
    "rcParams['font.family'] = 'sans-serif'\n",
    "rcParams['font.sans-serif'] = ['Hiragino Maru Gothic Pro', 'Yu Gothic', 'Meirio', 'Takao', 'IPAexGothic', 'IPAPGothic', 'VL PGothic', 'Noto Sans CJK JP']\n",
    "\n",
    "# 関数の定義\n",
    "t= MeCab.Tagger()\n",
    "def mecab_tokenize(text):\n",
    "        n = t.parseToNode(text)\n",
    "        tokens = []\n",
    "        while n:\n",
    "                if not n.feature.startswith(\"BOS/EOS,\"):\n",
    "                        tokens.append(n.surface)\n",
    "                n = n.next\n",
    "\n",
    "        return tokens\n",
    "\n",
    "def word_count(l):\n",
    "        w = [token for token in mecab_tokenize(l)]\n",
    "        #print(w)\n",
    "\n",
    "        return len(w)\n",
    "\n",
    "# ここからメイン\n",
    "if __name__ == '__main__':\n",
    "        path = \"plain.txt\"\n",
    "\n",
    "        with open(path, encoding=\"utf-8\") as f:\n",
    "                s = f.read()\n",
    "\n",
    "        lines = s.splitlines()\n",
    "\n",
    "        cnt = np.array([word_count(x) for x in lines])\n",
    "\n",
    "        # ヒストグラムの生成\n",
    "        # bins, 表示する棒の数（ビン数）defulat:10\n",
    "        plt.hist(cnt, bins=cnt.max())\n",
    "        plt.xlabel(\"単語数（文単位）\")\n",
    "        plt.ylabel(\"出現頻度\")\n",
    "        plt.show()"
   ]
  },
  {
   "cell_type": "markdown",
   "id": "59c187c1",
   "metadata": {
    "pycharm": {
     "name": "#%% md\n"
    }
   },
   "source": [
    "# テキストの準備（ダウンロード）\n",
    "\n",
    "ここからは、今後の授業に使う（複数の）テキストファイルを準備をします。\n",
    "\n",
    "今回は、著作権の切れた小説が公開されている「青空文庫( https://www.aozora.gr.jp/ )」を利用します。多くの作品があります。皆さんの好きな作品を選んでください。\n",
    "例えば、（これまでも使ってきた）夏目漱石の「吾輩は猫である」は、 https://www.aozora.gr.jp/cards/000148/card789.html からダウンロードすることができます。\n",
    "\n",
    "「テキストファイル(ルビあり)」のzipファイルをダウンロードするようにしてください。上記の例では、`789_ruby_5639.zip`をダウンロードした後、zipファイルを展開して、中にある`wagahaiwa_nekodearu.txt`を使用します。これが、今回使用するテキストファイル（テキストデータ）になります。ファイルを確認できたら`wagahaiwa_nekodearu.txt`をJupyter NotebookのHome Pageからアップロード（upload）してください（ただし、「吾輩は猫である」はすでに存在しているはずです）。"
   ]
  },
  {
   "cell_type": "markdown",
   "id": "281abd5f",
   "metadata": {
    "pycharm": {
     "name": "#%% md\n"
    }
   },
   "source": [
    "あとから複数のテキストデータを使った実習を行いますので、いまのうちに、ファイルをたくさんダウンロードしておきましょう。\n",
    "\n",
    "「青空文庫」では、さまざまな作家の作品が公開されていますが、その中から、二人以上の作家の作品をダウンロードしてください。\n",
    "トップの「公開中　作家別：」から作者を選ぶとよいでしょう。 私は、「夏目漱石」と「江戸川乱歩」を選ぶことにしました。\n",
    "\n",
    "「夏目漱石」は、明治末期から大正初期にかけて活躍した近代日本文学で最も著名な作家の一人です。代表作には『吾輩は猫である』『坊っちゃん』『三四郎』『それから』『こゝろ』『明暗』などがあります。 一方、「江戸川乱歩」は、大正から昭和期にかけて、推理小説を中心として活躍した小説家・推理作家です。江戸川乱歩の作品に登場する探偵の『明智小五郎』や『少年探偵団』は有名です。「夏目漱石」とは異なるジャンルの作品が多い「江戸川乱歩」を選んでみました。 また、「江戸川乱歩」の作品には、少年雑誌に掲載された作品が多くあります。\n",
    "\n",
    "「夏目漱石」も「江戸川乱歩」のどちらも、作品のシリーズ、連載等の話の繋がりをあまり考えずに、作品のリストから適当に10作品を選択しました。 ただし、作品を選ぶ際は、ある程度、テキストの量を確保したいため、比較的、文章が長い（テキストのサイズが大きい） 作品を選択するようにしてください。 目安としては、各作品のページの「ファイルのダウンロード」には、zip形式のファイルで「サイズ」が５桁以上のサイズになっているものを選ぶようにしてください。\n",
    "\n",
    "各作品には、「新字新仮名」 と「旧字旧仮名」のものがありますが、今回は、「新字新仮名」を選択してください。 各作品のページの「ファイルのダウンロード」から「テキストファイル(ルビあり)」のzip形式ファイルをダウンロードします。 さきほどと同様に、ダウンロードしたzipファイルを展開すると、中にテキストファイル（.txt）が入っていますので、 そのファイルをサーバにアップロードしてください。\n",
    "\n",
    "ここで追加の作業をしてください。 各ファイルの作者がわからなくなるので、ファイル名にラベルをつけるようにします。 例えば、私の場合は、「夏目漱石」を01、「江戸川乱歩」を02というように決めました。 作者が増えたときは、03, 04, ...のように番号を増やすとよいでしょう。 ファイル名を変更して、例えば、「夏目漱石」の`wagahaiwa_nekodearu.txt`は、`01_wagahaiwa_nekodearu.txt`と頭に01_をつけたファイル名にしました。 「江戸川乱歩」の`kaijin_nijumenso.txt`は、`02_kaijin_nijumenso.txt`のように、02_を加えます。 \n",
    "\n",
    "なお、ファイル名には、漢字や平仮名などのいわゆる全角文字は入れないようにして、すべて半角英数字で記述するようにしてください。時々、アルファベットや数字をいわゆる全角英数字で記述する人がいますが、必ず半角英数字にしてください。\n",
    "\n",
    "結果として、私が保存したファイルのファイル名は以下のようになりました。\n",
    "\n",
    "    01_bocchan.txt\n",
    "    01_eijitsu_shohin.txt\n",
    "    01_higansugimade.txt\n",
    "    01_london.txt\n",
    "    01_mon.txt\n",
    "    01_nowaki.txt\n",
    "    01_omoidasu_kotonado.txt\n",
    "    01_sanshiro.txt\n",
    "    01_wagahaiwa_nekodearu.txt\n",
    "    01_watashino_kojinshugi.txt\n",
    "    02_ichimaino_kippu.txt\n",
    "    02_kaijin_nijumenso.txt\n",
    "    02_kaijinto_shonen_tantei.txt\n",
    "    02_kaiki_yonju_menso.txt\n",
    "    02_kamenno_kyofuo.txt\n",
    "    02_kyuketsuki.txt\n",
    "    02_sakasuno_kaijin.txt\n",
    "    02_tantei_shosetsuno_nazo.txt\n",
    "    02_tetsujin_kyu.txt\n",
    "    02_yoseijin_r.txt\n",
    "    \n",
    "なお、「青空文庫」からダウンロードしたテキストデータは、文字コードがShift-JISになっていることに注意してください。"
   ]
  },
  {
   "cell_type": "markdown",
   "id": "1c2f0a39",
   "metadata": {
    "pycharm": {
     "name": "#%% md\n"
    }
   },
   "source": [
    "# テキストの整形（前処理）\n",
    "\n",
    "ダウンロードした「青空文庫」のデータをすべてプレーンテキストに変換してみましょう。\n",
    "\n",
    "まずは、プレーンテキストを保存するフォルダ（ディレクトリ）を作ります。名前は`plain/`にしてください。\n",
    "\n",
    "フォルダは、Jupyter Notebookのウェブインタフェースから作成してもよいですし、セルから`!mkdir plain`のコマンドを実行することで作成することもできます。"
   ]
  },
  {
   "cell_type": "code",
   "execution_count": 22,
   "id": "f7eb8754",
   "metadata": {
    "pycharm": {
     "name": "#%%\n"
    }
   },
   "outputs": [],
   "source": []
  },
  {
   "cell_type": "markdown",
   "id": "65e288dd",
   "metadata": {
    "pycharm": {
     "name": "#%% md\n"
    }
   },
   "source": [
    "次に、以下のプログラムを実行してください。\n",
    "このプログラムは、`01_`ではじまり、`.txt`で終わるファイルを一括処理します。`02_`ではじまるファイルもプログラムを修正して同様に処理してください。\n",
    "\n",
    "---\n",
    "    import re\n",
    "    import glob\n",
    "    import os\n",
    "\n",
    "    pattern = re.compile(r\"《[^《》]*》|［[^［］]*］|｜\")\n",
    "    pattern2 = re.compile( r\"〔[^〔〕]*〕\")\n",
    "\n",
    "    files = glob.glob(\"./01_*.txt\")\n",
    "\n",
    "    for input_file in files:    \n",
    "        print(\"input:\" +input_file)\n",
    "        with open(input_file, encoding=\"shift_jis\") as f:\n",
    "            lines = f.readlines()\n",
    "\n",
    "        # 初期化\n",
    "        f_skip = False\n",
    "        texts = []\n",
    "\n",
    "        for l in lines:\n",
    "                l_strip = l.strip()\n",
    "                # 「底本：」ではじまる行があったら打ち切り\n",
    "                if re.match(r'^底本：', l_strip):\n",
    "                    break\n",
    "\n",
    "                # 行頭から - のみの行があったとき\n",
    "                # - のみの行から- のみの行までは無視\n",
    "                if re.match(r'^-+$', l_strip):\n",
    "                    if f_skip == False:\n",
    "                        f_skip = True\n",
    "                    else:\n",
    "                        f_skip = False\n",
    "                else:\n",
    "                    if f_skip == False:\n",
    "                        result = pattern.sub(\"\",  l_strip)\n",
    "                        texts.append(pattern2.sub(\"\", result))\n",
    "                        #print(plain_result)\n",
    "\n",
    "        output = \"./plain/\" + os.path.basename(input_file)\n",
    "        print(\"output: \" + output)\n",
    "        with open(output, 'w', encoding=\"utf_8\") as f:\n",
    "            f.writelines(texts)\n",
    "---\n",
    "\n",
    "このコードでは、`files = glob.glob(\"./01_*.txt\")`でファイルの一覧を取得しています。\n",
    "\n",
    "`output = \"./plain/\" + os.path.basename(input)`で出力するファイル名を決めています。`os.path.basename(input)`によって入力ファイルのパスからフォルダ（ディレクトリ）部分（つまり`./`）を削除して、ファイル名のみを取り出しています。\n",
    "\n",
    "---\n",
    "    with open(output, 'w', encoding=\"utf_8\") as f:\n",
    "        f.writelines(texts)\n",
    "---\n",
    "で出力用のファイルを`open()`して、`writelines()`で書き出しています。\n",
    "なお、`texts`は、処理をしたテキストをためこむためのリストです。`texts.append()`によって正規表現で処理したあとのテキストをリストに追加しています。\n",
    "\n",
    "なお、今回のプログラムでは、`f.writelines(texts)`で各行末に`\\n`を付与をしていないのため、出力結果は、すべて一行につながった状態になります。\n",
    "\n",
    "なお、「青空文庫」のテキストの冒頭部（ヘッダ） には、\n",
    "\n",
    "    -------------------------------------------------------\n",
    "    【テキスト中に現れる記号について】\n",
    "\n",
    "    《》：ルビ\n",
    "    （例）坊《ぼ》っちゃん\n",
    "\n",
    "    ｜：ルビの付く文字列の始まりを特定する記号\n",
    "    （例）夕方｜折戸《おりど》の\n",
    "\n",
    "    ［＃］：入力者注　主に外字の説明や、傍点の位置の指定\n",
    "    （例）おくれんかな［＃「おくれんかな」に傍点］\n",
    "    -------------------------------------------------------\n",
    "のような説明が記述されています。これも削除しないといけません。`-`ではじまって、`-`で終わる`-`のみの行があったとき（`if re.match(r'^-+$', l_strip):`）、`f_skip`という変数を`True`に設定し、 そのあとの処理をスキップするようにしています。\n",
    "\n",
    "また、下端部（フッタ）には、\n",
    "\n",
    "    底本：「ちくま日本文学全集　夏目漱石」筑摩書房\n",
    "          1992（平成4）年1月20日第1刷発行\n",
    "    （省略）\n",
    "    青空文庫作成ファイル：\n",
    "    このファイルは、インターネットの図書館、青空文庫（http://www.aozora.gr.jp/）で作られました。入力、校正、制作にあたったのは、ボランティアの皆さんです。\n",
    "\n",
    "のような説明が記述されています。これは、\n",
    "    \n",
    "    if re.match(r'^底本：', l_strip):\n",
    "        break\n",
    "\n",
    "のように、正規表現を使って行頭（`^`）から「底本：」ではじまる行があったら、`for`ループを打ち切るようにしています。\n",
    "正規表現のパターンの`^`は、文字列の先頭という意味です。\n",
    "「青空文庫」のテキストデータは、本文のあとに、翻訳・校訂などのもとにした本を示した「底本：」が記載されているため、その前までで本文が終わりと判断しています。\n"
   ]
  },
  {
   "cell_type": "code",
   "execution_count": 32,
   "id": "2abbb474",
   "metadata": {
    "pycharm": {
     "name": "#%%\n"
    }
   },
   "outputs": [
    {
     "name": "stdout",
     "output_type": "stream",
     "text": [
      "input:./plain\\01_akai_heya.txt\n",
      "output: ./plain/01_akai_heya.txt\n",
      "input:./plain\\01_akai_kabutomushi.txt\n",
      "output: ./plain/01_akai_kabutomushi.txt\n",
      "input:./plain\\01_akumano_monsho.txt\n",
      "output: ./plain/01_akumano_monsho.txt\n",
      "input:./plain\\01_akuryo.txt\n",
      "output: ./plain/01_akuryo.txt\n",
      "input:./plain\\01_akuryo_monogatari.txt\n",
      "output: ./plain/01_akuryo_monogatari.txt\n",
      "input:./plain\\01_ankokusei.txt\n",
      "output: ./plain/01_ankokusei.txt\n",
      "input:./plain\\01_ichimaino_kippu.txt\n",
      "output: ./plain/01_ichimaino_kippu.txt\n",
      "input:./plain\\01_idai_naru_yume.txt\n",
      "output: ./plain/01_idai_naru_yume.txt\n",
      "input:./plain\\01_inju.txt\n",
      "output: ./plain/01_inju.txt\n",
      "input:./plain\\01_issunboshi.txt\n",
      "output: ./plain/01_issunboshi.txt\n"
     ]
    }
   ],
   "source": [
    "import re\n",
    "import glob\n",
    "import os\n",
    "\n",
    "pattern = re.compile(r\"《[^《》]*》|［[^［］]*］|｜\")\n",
    "pattern2 = re.compile( r\"〔[^〔〕]*〕\")\n",
    "\n",
    "files = glob.glob(\"./plain/01_*.txt\")\n",
    "\n",
    "for input_file in files:\n",
    "    print(\"input:\" +input_file)\n",
    "    with open(input_file, encoding=\"shift_jis\") as f:\n",
    "        lines = f.readlines()\n",
    "\n",
    "    # 初期化\n",
    "    f_skip = False\n",
    "    texts = []\n",
    "\n",
    "    for l in lines:\n",
    "            l_strip = l.strip()\n",
    "            # 「底本：」ではじまる行があったら打ち切り\n",
    "            if re.match(r'^底本：', l_strip):\n",
    "                break\n",
    "\n",
    "            # 行頭から - のみの行があったとき\n",
    "            # - のみの行から- のみの行までは無視\n",
    "            if re.match(r'^-+$', l_strip):\n",
    "                if f_skip == False:\n",
    "                    f_skip = True\n",
    "                else:\n",
    "                    f_skip = False\n",
    "            else:\n",
    "                if f_skip == False:\n",
    "                    result = pattern.sub(\"\",  l_strip)\n",
    "                    texts.append(pattern2.sub(\"\", result))\n",
    "                    #print(plain_result)\n",
    "\n",
    "    output = \"./plain/\" + os.path.basename(input_file)\n",
    "    print(\"output: \" + output)\n",
    "    with open(output, 'w', encoding=\"utf_8\") as f:\n",
    "        f.writelines(texts)"
   ]
  },
  {
   "cell_type": "code",
   "execution_count": 35,
   "outputs": [
    {
     "name": "stdout",
     "output_type": "stream",
     "text": [
      "input:./plain\\02_aigowaka.txt\n",
      "output: ./plain/02_aigowaka.txt\n",
      "input:./plain\\02_gujinshinkono_minzokuka.txt\n",
      "output: ./plain/02_gujinshinkono_minzokuka.txt\n",
      "input:./plain\\02_ichimura_uzaemon_ron.txt\n",
      "output: ./plain/02_ichimura_uzaemon_ron.txt\n",
      "input:./plain\\02_kappano_hanashi.txt\n",
      "output: ./plain/02_kappano_hanashi.txt\n",
      "input:./plain\\02_katsukatsutari_shajono_yujin.txt\n",
      "output: ./plain/02_katsukatsutari_shajono_yujin.txt\n",
      "input:./plain\\02_oguri_gaiden.txt\n",
      "output: ./plain/02_oguri_gaiden.txt\n",
      "input:./plain\\02_okinano_hassei.txt\n",
      "output: ./plain/02_okinano_hassei.txt\n",
      "input:./plain\\02_shintokumaru.txt\n",
      "output: ./plain/02_shintokumaru.txt\n",
      "input:./plain\\02_utano_enjakusuru_toki.txt\n",
      "output: ./plain/02_utano_enjakusuru_toki.txt\n",
      "input:./plain\\02_utano_hanashi.txt\n",
      "output: ./plain/02_utano_hanashi.txt\n"
     ]
    }
   ],
   "source": [
    "import re\n",
    "import glob\n",
    "import os\n",
    "\n",
    "pattern = re.compile(r\"《[^《》]*》|［[^［］]*］|｜\")\n",
    "pattern2 = re.compile( r\"〔[^〔〕]*〕\")\n",
    "\n",
    "files = glob.glob(\"./plain/02_*.txt\")\n",
    "\n",
    "for input_file in files:\n",
    "    print(\"input:\" +input_file)\n",
    "    with open(input_file, encoding=\"shift_jis\") as f:\n",
    "        lines = f.readlines()\n",
    "\n",
    "    # 初期化\n",
    "    f_skip = False\n",
    "    texts = []\n",
    "\n",
    "    for l in lines:\n",
    "            l_strip = l.strip()\n",
    "            # 「底本：」ではじまる行があったら打ち切り\n",
    "            if re.match(r'^底本：', l_strip):\n",
    "                break\n",
    "\n",
    "            # 行頭から - のみの行があったとき\n",
    "            # - のみの行から- のみの行までは無視\n",
    "            if re.match(r'^-+$', l_strip):\n",
    "                if f_skip == False:\n",
    "                    f_skip = True\n",
    "                else:\n",
    "                    f_skip = False\n",
    "            else:\n",
    "                if f_skip == False:\n",
    "                    result = pattern.sub(\"\",  l_strip)\n",
    "                    texts.append(pattern2.sub(\"\", result))\n",
    "                    #print(plain_result)\n",
    "\n",
    "    output = \"./plain/\" + os.path.basename(input_file)\n",
    "    print(\"output: \" + output)\n",
    "    with open(output, 'w', encoding=\"utf_8\") as f:\n",
    "        f.writelines(texts)"
   ],
   "metadata": {
    "collapsed": false,
    "pycharm": {
     "name": "#%%\n"
    }
   }
  },
  {
   "cell_type": "markdown",
   "id": "4ff1ac2b",
   "metadata": {
    "pycharm": {
     "name": "#%% md\n"
    }
   },
   "source": [
    "# クレンジングと外れ値処理\n",
    "\n",
    "ここまでも見てきたように、テキストを分析する際には、前処理として、分析に不要な部分を削除する必要があります。\n",
    "\n",
    "一般に、データを分析に適したキレイな形にする作業のことを「クレンジング」と呼びます。\n",
    "「クレンジング」の目的は、データの中から、重複、誤記、揺れ等を見つけ出し、削除、修正、正規化等することで、データの品質を高めることです。\n",
    "テキストマイニングにおいて、テキストの整形処理である「クレンジング」と「形態素解析」は、とても大切な前処理であり、その良し悪しは、分析結果に大きな影響を与えることになります。\n",
    "\n",
    "また、テキストマイニング以外においても、クレンジングは大切であり、データに含まれる欠損値や異常値等は、分析の過程で問題となることが多いため、クレンジングによって分析の前にキレイにすることが一般的です。\n",
    "\n",
    "外れ値は、他の値から大きく外れた値のことです。\n",
    "外れ値には、「本当に他とは異なるが正しい値」と「測定ミスや誤入力等により生じた異常な値」があり、後者が異常値です。\n",
    "異常値は、クレンジングの対象にすることが多いと思います。\n",
    "ただし、極端に大きい値であるからと言って、それが異常値であるとは限りません。\n",
    "その大きな値に、なにか意味があることもあります。外れ値だからといって、安直に消してしまってよいわけではないことに注意しましょう。\n",
    "\n",
    "これはテキストマイニングにおいても同じです。\n",
    "例えば、文章に含まれるある単語の出現回数が極端に多い場合、それが整形処理のミスによって生じたエラーなら異常値です。\n",
    "ただし、著者がわざと同じ単語を繰り返すような表現で作文していた場合は、その極端な繰り返し回数は、その文章の特徴であると言えます。\n",
    "この場合、その単語の出現回数は、外れ値になるかもしれませんが、削除してしまっては、その大切な特徴を消してしまうことになります。\n",
    "つまり、この場合、消してはいけません。\n",
    "\n",
    "話を「クレンジング」に戻します。\n",
    "テキストの「クレンジング」において、整形と並んで大切な処理に、表記揺れを統一するための「テキストの正規化」があります。\n",
    "ここからは「テキストの正規化」について見ていきましょう。"
   ]
  },
  {
   "cell_type": "markdown",
   "id": "c002f39c",
   "metadata": {
    "pycharm": {
     "name": "#%% md\n"
    }
   },
   "source": [
    "## テキストの正規化\n",
    "\n",
    "テキストマイニングをする際、「テキストの正規化」は非常にやっかいな問題です。 例えば、\n",
    "\n",
    "    ㈱ （株）\n",
    "\n",
    "などの少し特別な記号の扱いがあります。 コンピュータの中では、この二つは違う文字として扱われます。\n",
    "\n",
    "    そんな時 そんなとき\n",
    "    リンゴ りんご 林檎\n",
    "\n",
    "は、どちらもよく使われます。漢字で表記するか、仮名（平仮名、カタカナ）で書くかは、日本語は統一されていません。\n",
    "仮名漢字交じり文の場合、送り仮名にもバリエーションがあります。\n",
    "\n",
    "    取り扱い 取扱い\n",
    "\n",
    "アルファベットの文字列も\n",
    "    \n",
    "    Python Ｐｙｔｈｏｎ\n",
    "\n",
    "のように、いわゆる半角で書くこともできれば、全角文字で記述することもできます。\n",
    "他にも、\n",
    "    \n",
    "    コンピュータ コンピューター\n",
    "\n",
    "のように、分野や業界によって「正しい」とされている表記が異なる例もあります。\n",
    "\n",
    "### neologdnライブラリ\n",
    "表記のゆれは、多種多様、千差万別ですので、これさえやれば大丈夫といった王道のようなテキストの正規化の方法はありません。\n",
    "ただし、多くの人が同じような問題に遭遇することになるため、いくつか有用なライブラリが開発され、公開されています。\n",
    "その中から、複数の正規化処理をまとめた`neologdn`というライブラリがありますので使ってみましょう。\n",
    "\n",
    "`neologdn`は、追加インストールが必要です。\n",
    "\n",
    "    !pip install neologdn\n",
    "\n",
    "でインストールしてください。\n",
    "\n",
    "サンプルプログラムは以下となります。\n",
    "\n",
    "---\n",
    "    import neologdn\n",
    "\n",
    "    text = \"\"\"\n",
    "    おいし〜〜〜〜い\n",
    "    ウェ~∼∾〜〰～イ\n",
    "    ((((；ﾟДﾟ))))ｶﾞｸｶﾞｸﾌﾞﾙﾌﾞﾙ\n",
    "    Ｐｙｔｈｏｎ     完全に 理解した！？\n",
    "    今日はは、ゲンキ１００ばーーーーーーーーーーーーい☆\n",
    "    \"\"\"\n",
    "\n",
    "    text_norm = neologdn.normalize(text)\n",
    "\n",
    "    print(text)\n",
    "    print(text_norm)\n",
    "---\n",
    "\n",
    "入力と出力を比較すると、以下のような処理が適用されているのがわかると思います。\n",
    "- 全角英数字は半角に置換\n",
    "- 半角カタカナは全角に置換\n",
    "- チルダ文字は削除\n",
    "- 1回以上連続する長音記号は1回に置換\n",
    "- 全角記号・半角記号の統一\n",
    "- 余分なスペースは削除\n",
    "\n",
    "さらなる詳細は、`neologdn`のウェブサイト https://github.com/ikegami-yukino/neologdn を参照してください。"
   ]
  },
  {
   "cell_type": "code",
   "execution_count": 33,
   "id": "65f3573f",
   "metadata": {
    "pycharm": {
     "name": "#%%\n"
    }
   },
   "outputs": [
    {
     "name": "stdout",
     "output_type": "stream",
     "text": [
      "\n",
      "おいし〜〜〜〜い\n",
      "ウェ~∼∾〜〰～イ\n",
      "((((；ﾟДﾟ))))ｶﾞｸｶﾞｸﾌﾞﾙﾌﾞﾙ\n",
      "Ｐｙｔｈｏｎ     完全に 理解した！？\n",
      "今日はは、ゲンキ１００ばーーーーーーーーーーーーい☆\n",
      "\n",
      "\n",
      "おいしい\n",
      "ウェイ\n",
      "((((;ﾟДﾟ))))ガクガクブルブル\n",
      "Python完全に理解した!?\n",
      "今日はは、ゲンキ100ばーい☆\n",
      "\n"
     ]
    }
   ],
   "source": [
    "import neologdn\n",
    "\n",
    "text = \"\"\"\n",
    "おいし〜〜〜〜い\n",
    "ウェ~∼∾〜〰～イ\n",
    "((((；ﾟДﾟ))))ｶﾞｸｶﾞｸﾌﾞﾙﾌﾞﾙ\n",
    "Ｐｙｔｈｏｎ     完全に 理解した！？\n",
    "今日はは、ゲンキ１００ばーーーーーーーーーーーーい☆\n",
    "\"\"\"\n",
    "\n",
    "text_norm = neologdn.normalize(text)\n",
    "\n",
    "print(text)\n",
    "print(text_norm)"
   ]
  },
  {
   "cell_type": "code",
   "execution_count": 23,
   "id": "6d0cec19",
   "metadata": {
    "pycharm": {
     "name": "#%%\n"
    }
   },
   "outputs": [],
   "source": []
  },
  {
   "cell_type": "markdown",
   "id": "aae52f07",
   "metadata": {
    "pycharm": {
     "name": "#%% md\n"
    }
   },
   "source": [
    "### Unicode正規化\n",
    "\n",
    "Unicodeでは、非常に多くの文字が定義されており、例えば、`㈱`のような文字も一つの文字として定義されています。\n",
    "ただし、`（株）`のように`（`, `株`,`）`の３文字で表記することが多いように思います。\n",
    "`㈱`も`(株)`も意味としては同じなので、この表記ゆれは統一したいところです。\n",
    "\n",
    "Unicodeには表記ゆれの正規化に関する仕様が定義されており、Pythonでは標準モジュールの`unicodedata`で利用することができます。\n",
    "下のサンプルプログラムでは、記号が通常の文字列に変換されていると思います。\n",
    "\n",
    "なお、この例では、\n",
    "    \n",
    "    text_norm =  unicodedata.normalize('NFKC', text)\n",
    "\n",
    "で`text`を`text_norm`に変換しています。\n",
    "\n",
    "Unicde正規化のルールにはいくつか定義されていますが、NFKCというルールを使用することをオプションで指定します。\n",
    "このNFKCは、Normalization Form Compatibility Compositionのことで、見た目は異なるが基本的には同じ意味である文字は同じ文字に統一するようなルールとなっています。\n",
    "\n",
    "---\n",
    "    import unicodedata\n",
    "    from collections import Counter\n",
    "\n",
    "    text = \"\"\"\n",
    "    ㈱和歌山大学産業\n",
    "    今日の気温は２０℃\n",
    "    ①, ②, ③, ⑩\n",
    "    ㌔㍉\n",
    "    新しいディスプレイを買った\n",
    "    新しいディスプレイを買った\n",
    "    \"\"\"\n",
    "\n",
    "    text_norm =  unicodedata.normalize('NFKC', text)\n",
    "\n",
    "    print(text)\n",
    "    for l in text.splitlines():\n",
    "        print(Counter(l))\n",
    "\n",
    "    print(text_norm)\n",
    "    for l in text_norm.splitlines():\n",
    "        print(Counter(l))\n",
    "\n",
    "---\n",
    "\n",
    "なお、今回の例の中には、\n",
    "\n",
    "    新しいディスプレイを買った\n",
    "    新しいディスプレイを買った\n",
    "\n",
    "があり、まったく同じに見えるかもしれませんが、実は「`デ`」が異なります。\n",
    "上の「`デ`」は普通の「`デ`」です。 実は、下の「`デ`」は 結合文字列というもので、複数の文字（「`テ`」と「` ゙`」（濁点））を組み合わせて1つの文字「`デ`」になっています。\n",
    "このため、`Counter()`で文字をカウントすると、上は、「`デ`」が１回ですが、下は、「`テ`」と「` ゙`」がわかれて各１回あります。\n",
    "結合文字列は特殊なものではなく、MacOSのファイル名などでも利用されています。`unicodedata.normalize()`では、これを一文字の「`デ`」に統一しています（これを合成済み文字と呼びます）。"
   ]
  },
  {
   "cell_type": "code",
   "execution_count": 37,
   "id": "7ddce5cb",
   "metadata": {
    "pycharm": {
     "name": "#%%\n"
    }
   },
   "outputs": [
    {
     "name": "stdout",
     "output_type": "stream",
     "text": [
      "\n",
      "㈱和歌山大学産業\n",
      "今日の気温は２０℃\n",
      "①, ②, ③, ⑩\n",
      "㌔㍉\n",
      "新しいディスプレイを買った\n",
      "新しいディスプレイを買った\n",
      "\n",
      "Counter()\n",
      "Counter({'㈱': 1, '和': 1, '歌': 1, '山': 1, '大': 1, '学': 1, '産': 1, '業': 1})\n",
      "Counter({'今': 1, '日': 1, 'の': 1, '気': 1, '温': 1, 'は': 1, '２': 1, '０': 1, '℃': 1})\n",
      "Counter({',': 3, ' ': 3, '①': 1, '②': 1, '③': 1, '⑩': 1})\n",
      "Counter({'㌔': 1, '㍉': 1})\n",
      "Counter({'新': 1, 'し': 1, 'い': 1, 'デ': 1, 'ィ': 1, 'ス': 1, 'プ': 1, 'レ': 1, 'イ': 1, 'を': 1, '買': 1, 'っ': 1, 'た': 1})\n",
      "Counter({'新': 1, 'し': 1, 'い': 1, 'テ': 1, '゙': 1, 'ィ': 1, 'ス': 1, 'プ': 1, 'レ': 1, 'イ': 1, 'を': 1, '買': 1, 'っ': 1, 'た': 1})\n",
      "\n",
      "(株)和歌山大学産業\n",
      "今日の気温は20°C\n",
      "1, 2, 3, 10\n",
      "キロミリ\n",
      "新しいディスプレイを買った\n",
      "新しいディスプレイを買った\n",
      "\n",
      "Counter()\n",
      "Counter({'(': 1, '株': 1, ')': 1, '和': 1, '歌': 1, '山': 1, '大': 1, '学': 1, '産': 1, '業': 1})\n",
      "Counter({'今': 1, '日': 1, 'の': 1, '気': 1, '温': 1, 'は': 1, '2': 1, '0': 1, '°': 1, 'C': 1})\n",
      "Counter({',': 3, ' ': 3, '1': 2, '2': 1, '3': 1, '0': 1})\n",
      "Counter({'キ': 1, 'ロ': 1, 'ミ': 1, 'リ': 1})\n",
      "Counter({'新': 1, 'し': 1, 'い': 1, 'デ': 1, 'ィ': 1, 'ス': 1, 'プ': 1, 'レ': 1, 'イ': 1, 'を': 1, '買': 1, 'っ': 1, 'た': 1})\n",
      "Counter({'新': 1, 'し': 1, 'い': 1, 'デ': 1, 'ィ': 1, 'ス': 1, 'プ': 1, 'レ': 1, 'イ': 1, 'を': 1, '買': 1, 'っ': 1, 'た': 1})\n"
     ]
    }
   ],
   "source": [
    "import unicodedata\n",
    "from collections import Counter\n",
    "\n",
    "text = \"\"\"\n",
    "㈱和歌山大学産業\n",
    "今日の気温は２０℃\n",
    "①, ②, ③, ⑩\n",
    "㌔㍉\n",
    "新しいディスプレイを買った\n",
    "新しいディスプレイを買った\n",
    "\"\"\"\n",
    "\n",
    "text_norm =  unicodedata.normalize('NFKC', text)\n",
    "\n",
    "print(text)\n",
    "for l in text.splitlines():\n",
    "    print(Counter(l))\n",
    "\n",
    "print(text_norm)\n",
    "for l in text_norm.splitlines():\n",
    "    print(Counter(l))"
   ]
  },
  {
   "cell_type": "markdown",
   "id": "79ff4a61",
   "metadata": {
    "pycharm": {
     "name": "#%% md\n"
    }
   },
   "source": [
    "# 本日の課題\n",
    "## 課題1\n",
    "\n",
    "授業中に説明した手順に従い、「青空文庫」から作者２名以上、各作者１０作品以上（つまり、合計で２０作品以上）のテキストを取得して、`plain/`の下にプレーンテキストに変換した各ファイルを保存しなさい。\n",
    "\n",
    "作者は、作者ごとに`01_`, `02_`, `03_`のような数値によるラベルをファイル名の頭につけるようにするすること。\n",
    "詳細は、授業で説明した通りである。ファイル数を増やして、作者２名以上、各作者１０作品以上（つまり、合計で２０作品以上）のデータを準備することが課題である。\n",
    "\n",
    "なお、今回用意するファイルは、今後の課題でも使用するため、慎重に作業を行うようにしてください。\n",
    "\n",
    "以下のセルには、変換プログラムが`print()`した出力結果を入力して提出してください（セルの中には記載例を入力してあるので、削除してから各自の結果を入力してください）。"
   ]
  },
  {
   "cell_type": "raw",
   "id": "afe84e2f",
   "metadata": {
    "pycharm": {
     "name": "#%% raw\n"
    }
   },
   "source": [
    "input:./plain\\01_akai_heya.txt\n",
    "output: ./plain/01_akai_heya.txt\n",
    "input:./plain\\01_akai_kabutomushi.txt\n",
    "output: ./plain/01_akai_kabutomushi.txt\n",
    "input:./plain\\01_akumano_monsho.txt\n",
    "output: ./plain/01_akumano_monsho.txt\n",
    "input:./plain\\01_akuryo.txt\n",
    "output: ./plain/01_akuryo.txt\n",
    "input:./plain\\01_akuryo_monogatari.txt\n",
    "output: ./plain/01_akuryo_monogatari.txt\n",
    "input:./plain\\01_ankokusei.txt\n",
    "output: ./plain/01_ankokusei.txt\n",
    "input:./plain\\01_ichimaino_kippu.txt\n",
    "output: ./plain/01_ichimaino_kippu.txt\n",
    "input:./plain\\01_idai_naru_yume.txt\n",
    "output: ./plain/01_idai_naru_yume.txt\n",
    "input:./plain\\01_inju.txt\n",
    "output: ./plain/01_inju.txt\n",
    "input:./plain\\01_issunboshi.txt\n",
    "output: ./plain/01_issunboshi.txt\n",
    "input:./plain\\02_aigowaka.txt\n",
    "output: ./plain/02_aigowaka.txt\n",
    "input:./plain\\02_gujinshinkono_minzokuka.txt\n",
    "output: ./plain/02_gujinshinkono_minzokuka.txt\n",
    "input:./plain\\02_ichimura_uzaemon_ron.txt\n",
    "output: ./plain/02_ichimura_uzaemon_ron.txt\n",
    "input:./plain\\02_kappano_hanashi.txt\n",
    "output: ./plain/02_kappano_hanashi.txt\n",
    "input:./plain\\02_katsukatsutari_shajono_yujin.txt\n",
    "output: ./plain/02_katsukatsutari_shajono_yujin.txt\n",
    "input:./plain\\02_oguri_gaiden.txt\n",
    "output: ./plain/02_oguri_gaiden.txt\n",
    "input:./plain\\02_okinano_hassei.txt\n",
    "output: ./plain/02_okinano_hassei.txt\n",
    "input:./plain\\02_shintokumaru.txt\n",
    "output: ./plain/02_shintokumaru.txt\n",
    "input:./plain\\02_utano_enjakusuru_toki.txt\n",
    "output: ./plain/02_utano_enjakusuru_toki.txt\n",
    "input:./plain\\02_utano_hanashi.txt\n",
    "output: ./plain/02_utano_hanashi.txt"
   ]
  },
  {
   "cell_type": "markdown",
   "id": "4510e904",
   "metadata": {
    "pycharm": {
     "name": "#%% md\n"
    }
   },
   "source": [
    "## 課題2\n",
    "\n",
    "`plain/`の中のすべてのテキストファイルを整形・正規化して、その結果を新しく作った出力用フォルダ`clean/`に保存するプログラムを完成させない。\n",
    "\n",
    "この課題を実行する前に、まず、出力用のフォルダ（ディレクトリ）である`clean/`を作成してください。\n",
    "\n",
    "---\n",
    "\n",
    "    !mkdir clean\n",
    "\n",
    "---\n",
    "\n",
    "次に、以下のプログラムを完成させて`plain/`の中にあるすべての`*.txt`のファイルを処理し、`clean/`の中に出力するようにしてください。\n",
    "\n",
    "なお、整形・正規化処理として、以下の処理は必ず適用するようにしてください。\n",
    "\n",
    "- ja_sentence_segmenterによる行の分割\n",
    "- neologdnライブラリを使ったテキスト整形\n",
    "- Unicode正規化\n",
    "\n",
    "それ以外のテキスト整形の処理を含めても構いません。"
   ]
  },
  {
   "cell_type": "code",
   "execution_count": 38,
   "id": "fec9bee3",
   "metadata": {
    "pycharm": {
     "name": "#%%\n"
    }
   },
   "outputs": [
    {
     "name": "stdout",
     "output_type": "stream",
     "text": [
      "input:./plain\\01_akai_heya.txt\n",
      "output: ./plain\\01_akai_heya.txt\n",
      "input:./plain\\01_akai_kabutomushi.txt\n",
      "output: ./plain\\01_akai_kabutomushi.txt\n",
      "input:./plain\\01_akumano_monsho.txt\n",
      "output: ./plain\\01_akumano_monsho.txt\n",
      "input:./plain\\01_akuryo.txt\n",
      "output: ./plain\\01_akuryo.txt\n",
      "input:./plain\\01_akuryo_monogatari.txt\n",
      "output: ./plain\\01_akuryo_monogatari.txt\n",
      "input:./plain\\01_ankokusei.txt\n",
      "output: ./plain\\01_ankokusei.txt\n",
      "input:./plain\\01_ichimaino_kippu.txt\n",
      "output: ./plain\\01_ichimaino_kippu.txt\n",
      "input:./plain\\01_idai_naru_yume.txt\n",
      "output: ./plain\\01_idai_naru_yume.txt\n",
      "input:./plain\\01_inju.txt\n",
      "output: ./plain\\01_inju.txt\n",
      "input:./plain\\01_issunboshi.txt\n",
      "output: ./plain\\01_issunboshi.txt\n",
      "input:./plain\\02_aigowaka.txt\n",
      "output: ./plain\\02_aigowaka.txt\n",
      "input:./plain\\02_gujinshinkono_minzokuka.txt\n",
      "output: ./plain\\02_gujinshinkono_minzokuka.txt\n",
      "input:./plain\\02_ichimura_uzaemon_ron.txt\n",
      "output: ./plain\\02_ichimura_uzaemon_ron.txt\n",
      "input:./plain\\02_kappano_hanashi.txt\n",
      "output: ./plain\\02_kappano_hanashi.txt\n",
      "input:./plain\\02_katsukatsutari_shajono_yujin.txt\n",
      "output: ./plain\\02_katsukatsutari_shajono_yujin.txt\n",
      "input:./plain\\02_oguri_gaiden.txt\n",
      "output: ./plain\\02_oguri_gaiden.txt\n",
      "input:./plain\\02_okinano_hassei.txt\n",
      "output: ./plain\\02_okinano_hassei.txt\n",
      "input:./plain\\02_shintokumaru.txt\n",
      "output: ./plain\\02_shintokumaru.txt\n",
      "input:./plain\\02_utano_enjakusuru_toki.txt\n",
      "output: ./plain\\02_utano_enjakusuru_toki.txt\n",
      "input:./plain\\02_utano_hanashi.txt\n",
      "output: ./plain\\02_utano_hanashi.txt\n"
     ]
    }
   ],
   "source": [
    "import glob\n",
    "import os\n",
    "import neologdn\n",
    "import unicodedata\n",
    "import functools\n",
    "\n",
    "from ja_sentence_segmenter.common.pipeline import make_pipeline\n",
    "from ja_sentence_segmenter.concatenate.simple_concatenator import concatenate_matching\n",
    "from ja_sentence_segmenter.normalize.neologd_normalizer import normalize\n",
    "from ja_sentence_segmenter.split.simple_splitter import split_newline, split_punctuation\n",
    "\n",
    "files = glob.glob(\"./plain/*.txt\") # 入力ファイルのリストを取得\n",
    "\n",
    "for input_file in files:    \n",
    "    print(\"input:\" +input_file)\n",
    "\n",
    "    # この部分にコードを追加する\n",
    "    neolog_output = neologdn.normalize(input_file)\n",
    "    output =  unicodedata.normalize('NFKC', neolog_output)\n",
    "    # outputは ./clean/ の下に保存するようにする\n",
    "    print(\"output: \" + output)\n",
    "    with open(output, 'w', encoding=\"utf_8\") as f:\n",
    "        f.writelines('\\n'.join(lines))"
   ]
  },
  {
   "cell_type": "markdown",
   "id": "ecaf75ec",
   "metadata": {
    "pycharm": {
     "name": "#%% md\n"
    }
   },
   "source": [
    "### 提出方法\n",
    "上記のコードを参考にして、セルに課題の回答となる外部コマンドとコードを入力して実行してください。\n",
    "実行できたら、Notebook形式ファイル（.ipynb）を保存（File -> Download as）して、保存した.ipynbのファイルをMoodleコースから提出してください（次回課題の解説をしますから、あきらめずに提出してください）。"
   ]
  }
 ],
 "metadata": {
  "kernelspec": {
   "display_name": "Python 3 (ipykernel)",
   "language": "python",
   "name": "python3"
  },
  "language_info": {
   "codemirror_mode": {
    "name": "ipython",
    "version": 3
   },
   "file_extension": ".py",
   "mimetype": "text/x-python",
   "name": "python",
   "nbconvert_exporter": "python",
   "pygments_lexer": "ipython3",
   "version": "3.9.12"
  }
 },
 "nbformat": 4,
 "nbformat_minor": 5
}